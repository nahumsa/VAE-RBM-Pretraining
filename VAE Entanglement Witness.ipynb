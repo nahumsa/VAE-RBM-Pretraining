{
  "nbformat": 4,
  "nbformat_minor": 0,
  "metadata": {
    "colab": {
      "name": "VAE Entanglement Witness.ipynb",
      "provenance": [],
      "collapsed_sections": [],
      "authorship_tag": "ABX9TyM0x60uiU+oPmWBivmIkzxc",
      "include_colab_link": true
    },
    "kernelspec": {
      "name": "python3",
      "display_name": "Python 3"
    }
  },
  "cells": [
    {
      "cell_type": "markdown",
      "metadata": {
        "id": "view-in-github",
        "colab_type": "text"
      },
      "source": [
        "<a href=\"https://colab.research.google.com/github/nahumsa/VAE-RBM-Pretraining/blob/Entanglement/VAE%20Entanglement%20Witness.ipynb\" target=\"_parent\"><img src=\"https://colab.research.google.com/assets/colab-badge.svg\" alt=\"Open In Colab\"/></a>"
      ]
    },
    {
      "cell_type": "markdown",
      "metadata": {
        "id": "pUCZ9ggjHQcE",
        "colab_type": "text"
      },
      "source": [
        "# Creating entangled and separable states with quti"
      ]
    },
    {
      "cell_type": "markdown",
      "metadata": {
        "id": "A-jfPwysY6mi",
        "colab_type": "text"
      },
      "source": [
        "## Installing dependencies"
      ]
    },
    {
      "cell_type": "code",
      "metadata": {
        "id": "_s9EV4sPGcWY",
        "colab_type": "code",
        "colab": {}
      },
      "source": [
        "!pip install qutip"
      ],
      "execution_count": 0,
      "outputs": []
    },
    {
      "cell_type": "markdown",
      "metadata": {
        "id": "eDn2a0JSZCBs",
        "colab_type": "text"
      },
      "source": [
        "## Creating the dataset"
      ]
    },
    {
      "cell_type": "markdown",
      "metadata": {
        "id": "VPizg7OnKIvI",
        "colab_type": "text"
      },
      "source": [
        "We want to take the partial trace of the density matrix and check if it $\\rho > 0$. \n",
        "\n",
        "Here we are following the Perez-Horondecki criterion, if the partial transpose of the density matrix is negative, the state has to be entangled. \n",
        "\n",
        "Because it the state is separable, it will be positive definite by definition."
      ]
    },
    {
      "cell_type": "code",
      "metadata": {
        "id": "g93IYLdPryAR",
        "colab_type": "code",
        "colab": {}
      },
      "source": [
        "from itertools import product\n",
        "import qutip as qutip\n",
        "\n",
        "def measurement(density_matrix, base, name_base):\n",
        "  \"\"\"Measuring the quantum state on a given basis.\n",
        "  \"\"\"\n",
        "  _measurements_names = []\n",
        "  _measurements = []\n",
        "\n",
        "  for (name_1, meas_1),(name_2,meas_2) in product(zip(name_basis, basis),zip(name_basis, basis)):\n",
        "    measurement_op = qutip.tensor(meas_1,meas_2)\n",
        "    _measurements.append(qutip.expect(measurement_op, density_matrix))\n",
        "    _measurements_names.append(name_1 + name_2)\n",
        "\n",
        "  return [i for i in zip(_measurements, _measurements_names)]\n",
        "\n",
        "def create_density_matrix(base,name_base):\n",
        "  \"\"\" Create a random density matrix.\"\"\"\n",
        "\n",
        "  for (name_1, basis_1),(name_2, basis_2) in product(zip(name_basis, basis),zip(name_basis, basis)):\n",
        "    if name_1 == 'I' and name_2 == 'I':\n",
        "      density_matrix = 0.25*qutip.tensor(qutip.identity(2), qutip.identity(2))\n",
        "    else: \n",
        "      density_matrix += 0.25*np.random.rand()*qutip.tensor(basis_1,basis_2)\n",
        "  \n",
        "  return density_matrix\n",
        "\n",
        "def create_dataset(n_samples):\n",
        "  \n",
        "  _states = []\n",
        "  _labels = []\n",
        "  _measurements = []\n",
        "\n",
        "  #Basis Measured\n",
        "  name_basis = ['I','X', 'Y', 'Z']\n",
        "  basis = [qutip.identity(2), qutip.sigmax(),qutip.sigmay(),qutip.sigmaz()]\n",
        "\n",
        "\n",
        "\n",
        "  for _ in range(n_samples):\n",
        "    density = create_density_matrix(base=basis, name_base=name_basis)\n",
        "  \n",
        "    #Partial Trace\n",
        "    part_density = density.ptrace(1)\n",
        "  \n",
        "    #Labels: 1 if entangled -1 if separable\n",
        "    if (part_density.eigenenergies() < 0).any():\n",
        "      _labels.append(1)\n",
        "  \n",
        "    else:\n",
        "      _labels.append(-1)  \n",
        "\n",
        "    _states.append(density)  \n",
        "  \n",
        "    val_measurements = measurement(density_matrix=density, \n",
        "                                   base=basis, \n",
        "                                   name_base=name_basis)\n",
        "  \n",
        "    _measurements.append(val_measurements)\n",
        "    \n",
        "  return _states, _measurements, _labels"
      ],
      "execution_count": 0,
      "outputs": []
    },
    {
      "cell_type": "code",
      "metadata": {
        "id": "FXQC9fUM_8fD",
        "colab_type": "code",
        "colab": {}
      },
      "source": [
        "samples = 100\n",
        "states, measurements, labels = create_dataset(samples)"
      ],
      "execution_count": 0,
      "outputs": []
    },
    {
      "cell_type": "markdown",
      "metadata": {
        "id": "7RJYZWfcO2qS",
        "colab_type": "text"
      },
      "source": [
        "# Build a Variational Autoencoder"
      ]
    },
    {
      "cell_type": "code",
      "metadata": {
        "id": "Nw_zOwYbO61v",
        "colab_type": "code",
        "colab": {}
      },
      "source": [
        ""
      ],
      "execution_count": 0,
      "outputs": []
    }
  ]
}