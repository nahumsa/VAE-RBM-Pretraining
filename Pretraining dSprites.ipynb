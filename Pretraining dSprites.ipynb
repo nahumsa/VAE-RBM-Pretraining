{
 "cells": [
  {
   "cell_type": "markdown",
   "metadata": {
    "toc": true
   },
   "source": [
    "<h1>Table of Contents<span class=\"tocSkip\"></span></h1>\n",
    "<div class=\"toc\"><ul class=\"toc-item\"><li><span><a href=\"#Beta-Variational-Autoencoder-Using-Keras-data-Dsprites\" data-toc-modified-id=\"Beta-Variational-Autoencoder-Using-Keras-data-Dsprites-1\"><span class=\"toc-item-num\">1&nbsp;&nbsp;</span>Beta Variational Autoencoder Using Keras data Dsprites</a></span><ul class=\"toc-item\"><li><span><a href=\"#Data\" data-toc-modified-id=\"Data-1.1\"><span class=\"toc-item-num\">1.1&nbsp;&nbsp;</span>Data</a></span></li><li><span><a href=\"#Building-the-Beta-VAE\" data-toc-modified-id=\"Building-the-Beta-VAE-1.2\"><span class=\"toc-item-num\">1.2&nbsp;&nbsp;</span>Building the Beta-VAE</a></span><ul class=\"toc-item\"><li><span><a href=\"#Using-RBM-Initialization\" data-toc-modified-id=\"Using-RBM-Initialization-1.2.1\"><span class=\"toc-item-num\">1.2.1&nbsp;&nbsp;</span>Using RBM Initialization</a></span></li></ul></li><li><span><a href=\"#Analysis\" data-toc-modified-id=\"Analysis-1.3\"><span class=\"toc-item-num\">1.3&nbsp;&nbsp;</span>Analysis</a></span><ul class=\"toc-item\"><li><span><a href=\"#Reconstruction\" data-toc-modified-id=\"Reconstruction-1.3.1\"><span class=\"toc-item-num\">1.3.1&nbsp;&nbsp;</span>Reconstruction</a></span></li><li><span><a href=\"#Traversals\" data-toc-modified-id=\"Traversals-1.3.2\"><span class=\"toc-item-num\">1.3.2&nbsp;&nbsp;</span>Traversals</a></span></li></ul></li></ul></li></ul></div>"
   ]
  },
  {
   "cell_type": "markdown",
   "metadata": {},
   "source": [
    "# Beta Variational Autoencoder Using Keras data Dsprites\n",
    "\n",
    "The code is based on the book [Generative Deep Learning by David Foster](https://www.oreilly.com/library/view/generative-deep-learning/9781492041931/) and on this [repository](https://github.com/lane203j/deep-autoencoder-with-RBM-pretraining). But here we apply the RBM pretraining to the Beta-Variational autoencoder."
   ]
  },
  {
   "cell_type": "markdown",
   "metadata": {},
   "source": [
    "## Data\n",
    "\n",
    "The data is taken from [Dsprites dataset](https://github.com/deepmind/dsprites-dataset). \n",
    "\n",
    "For loading the dataset we used this [notebook](https://github.com/deepmind/dsprites-dataset/blob/master/dsprites_reloading_example.ipynb).\n",
    "\n",
    "The datafiles are on the input folder.\n"
   ]
  },
  {
   "cell_type": "code",
   "execution_count": 1,
   "metadata": {},
   "outputs": [
    {
     "name": "stderr",
     "output_type": "stream",
     "text": [
      "Using TensorFlow backend.\n",
      "/home/nahum/anaconda3/envs/generative/lib/python3.6/site-packages/tensorflow/python/framework/dtypes.py:516: FutureWarning: Passing (type, 1) or '1type' as a synonym of type is deprecated; in a future version of numpy, it will be understood as (type, (1,)) / '(1,)type'.\n",
      "  _np_qint8 = np.dtype([(\"qint8\", np.int8, 1)])\n",
      "/home/nahum/anaconda3/envs/generative/lib/python3.6/site-packages/tensorflow/python/framework/dtypes.py:517: FutureWarning: Passing (type, 1) or '1type' as a synonym of type is deprecated; in a future version of numpy, it will be understood as (type, (1,)) / '(1,)type'.\n",
      "  _np_quint8 = np.dtype([(\"quint8\", np.uint8, 1)])\n",
      "/home/nahum/anaconda3/envs/generative/lib/python3.6/site-packages/tensorflow/python/framework/dtypes.py:518: FutureWarning: Passing (type, 1) or '1type' as a synonym of type is deprecated; in a future version of numpy, it will be understood as (type, (1,)) / '(1,)type'.\n",
      "  _np_qint16 = np.dtype([(\"qint16\", np.int16, 1)])\n",
      "/home/nahum/anaconda3/envs/generative/lib/python3.6/site-packages/tensorflow/python/framework/dtypes.py:519: FutureWarning: Passing (type, 1) or '1type' as a synonym of type is deprecated; in a future version of numpy, it will be understood as (type, (1,)) / '(1,)type'.\n",
      "  _np_quint16 = np.dtype([(\"quint16\", np.uint16, 1)])\n",
      "/home/nahum/anaconda3/envs/generative/lib/python3.6/site-packages/tensorflow/python/framework/dtypes.py:520: FutureWarning: Passing (type, 1) or '1type' as a synonym of type is deprecated; in a future version of numpy, it will be understood as (type, (1,)) / '(1,)type'.\n",
      "  _np_qint32 = np.dtype([(\"qint32\", np.int32, 1)])\n",
      "/home/nahum/anaconda3/envs/generative/lib/python3.6/site-packages/tensorflow/python/framework/dtypes.py:525: FutureWarning: Passing (type, 1) or '1type' as a synonym of type is deprecated; in a future version of numpy, it will be understood as (type, (1,)) / '(1,)type'.\n",
      "  np_resource = np.dtype([(\"resource\", np.ubyte, 1)])\n",
      "/home/nahum/anaconda3/envs/generative/lib/python3.6/site-packages/tensorboard/compat/tensorflow_stub/dtypes.py:541: FutureWarning: Passing (type, 1) or '1type' as a synonym of type is deprecated; in a future version of numpy, it will be understood as (type, (1,)) / '(1,)type'.\n",
      "  _np_qint8 = np.dtype([(\"qint8\", np.int8, 1)])\n",
      "/home/nahum/anaconda3/envs/generative/lib/python3.6/site-packages/tensorboard/compat/tensorflow_stub/dtypes.py:542: FutureWarning: Passing (type, 1) or '1type' as a synonym of type is deprecated; in a future version of numpy, it will be understood as (type, (1,)) / '(1,)type'.\n",
      "  _np_quint8 = np.dtype([(\"quint8\", np.uint8, 1)])\n",
      "/home/nahum/anaconda3/envs/generative/lib/python3.6/site-packages/tensorboard/compat/tensorflow_stub/dtypes.py:543: FutureWarning: Passing (type, 1) or '1type' as a synonym of type is deprecated; in a future version of numpy, it will be understood as (type, (1,)) / '(1,)type'.\n",
      "  _np_qint16 = np.dtype([(\"qint16\", np.int16, 1)])\n",
      "/home/nahum/anaconda3/envs/generative/lib/python3.6/site-packages/tensorboard/compat/tensorflow_stub/dtypes.py:544: FutureWarning: Passing (type, 1) or '1type' as a synonym of type is deprecated; in a future version of numpy, it will be understood as (type, (1,)) / '(1,)type'.\n",
      "  _np_quint16 = np.dtype([(\"quint16\", np.uint16, 1)])\n",
      "/home/nahum/anaconda3/envs/generative/lib/python3.6/site-packages/tensorboard/compat/tensorflow_stub/dtypes.py:545: FutureWarning: Passing (type, 1) or '1type' as a synonym of type is deprecated; in a future version of numpy, it will be understood as (type, (1,)) / '(1,)type'.\n",
      "  _np_qint32 = np.dtype([(\"qint32\", np.int32, 1)])\n",
      "/home/nahum/anaconda3/envs/generative/lib/python3.6/site-packages/tensorboard/compat/tensorflow_stub/dtypes.py:550: FutureWarning: Passing (type, 1) or '1type' as a synonym of type is deprecated; in a future version of numpy, it will be understood as (type, (1,)) / '(1,)type'.\n",
      "  np_resource = np.dtype([(\"resource\", np.ubyte, 1)])\n"
     ]
    }
   ],
   "source": [
    "from __future__ import absolute_import\n",
    "from __future__ import division\n",
    "from __future__ import print_function\n",
    "from __future__ import unicode_literals\n",
    "\n",
    "import numpy as np\n",
    "import random\n",
    "import matplotlib.pyplot as plt\n",
    "%matplotlib inline\n",
    "from keras.utils import np_utils\n",
    "import seaborn as sns\n",
    "import os\n",
    "\n",
    "# Change figure aesthetics\n",
    "%matplotlib inline\n",
    "sns.set_context('paper', font_scale=1.2, rc={'lines.linewidth': 1.5})\n",
    "\n",
    "import warnings\n",
    "warnings.simplefilter(action='ignore', category=FutureWarning)\n",
    "warnings.filterwarnings(action='ignore', category=DeprecationWarning)"
   ]
  },
  {
   "cell_type": "code",
   "execution_count": 2,
   "metadata": {},
   "outputs": [
    {
     "name": "stdout",
     "output_type": "stream",
     "text": [
      "Keys in the dataset: KeysView(<numpy.lib.npyio.NpzFile object at 0x7f118c192b70>)\n",
      "Metadata: \n",
      " {b'date': b'April 2017', b'description': b'Disentanglement test Sprites dataset.Procedurally generated 2D shapes, from 6 disentangled latent factors.This dataset uses 6 latents, controlling the color, shape, scale, rotation and position of a sprite. All possible variations of the latents are present. Ordering along dimension 1 is fixed and can be mapped back to the exact latent values that generated that image.We made sure that the pixel outputs are different. No noise added.', b'version': 1, b'latents_names': (b'color', b'shape', b'scale', b'orientation', b'posX', b'posY'), b'latents_possible_values': {b'orientation': array([0.        , 0.16110732, 0.32221463, 0.48332195, 0.64442926,\n",
      "       0.80553658, 0.96664389, 1.12775121, 1.28885852, 1.44996584,\n",
      "       1.61107316, 1.77218047, 1.93328779, 2.0943951 , 2.25550242,\n",
      "       2.41660973, 2.57771705, 2.73882436, 2.89993168, 3.061039  ,\n",
      "       3.22214631, 3.38325363, 3.54436094, 3.70546826, 3.86657557,\n",
      "       4.02768289, 4.1887902 , 4.34989752, 4.51100484, 4.67211215,\n",
      "       4.83321947, 4.99432678, 5.1554341 , 5.31654141, 5.47764873,\n",
      "       5.63875604, 5.79986336, 5.96097068, 6.12207799, 6.28318531]), b'posX': array([0.        , 0.03225806, 0.06451613, 0.09677419, 0.12903226,\n",
      "       0.16129032, 0.19354839, 0.22580645, 0.25806452, 0.29032258,\n",
      "       0.32258065, 0.35483871, 0.38709677, 0.41935484, 0.4516129 ,\n",
      "       0.48387097, 0.51612903, 0.5483871 , 0.58064516, 0.61290323,\n",
      "       0.64516129, 0.67741935, 0.70967742, 0.74193548, 0.77419355,\n",
      "       0.80645161, 0.83870968, 0.87096774, 0.90322581, 0.93548387,\n",
      "       0.96774194, 1.        ]), b'posY': array([0.        , 0.03225806, 0.06451613, 0.09677419, 0.12903226,\n",
      "       0.16129032, 0.19354839, 0.22580645, 0.25806452, 0.29032258,\n",
      "       0.32258065, 0.35483871, 0.38709677, 0.41935484, 0.4516129 ,\n",
      "       0.48387097, 0.51612903, 0.5483871 , 0.58064516, 0.61290323,\n",
      "       0.64516129, 0.67741935, 0.70967742, 0.74193548, 0.77419355,\n",
      "       0.80645161, 0.83870968, 0.87096774, 0.90322581, 0.93548387,\n",
      "       0.96774194, 1.        ]), b'scale': array([0.5, 0.6, 0.7, 0.8, 0.9, 1. ]), b'shape': array([1., 2., 3.]), b'color': array([1.])}, b'latents_sizes': array([ 1,  3,  6, 40, 32, 32]), b'author': b'lmatthey@google.com', b'title': b'dSprites dataset'}\n"
     ]
    }
   ],
   "source": [
    "path = os.getcwd()\n",
    "dataset_zip = np.load(path+'/Data/dsprites/dsprites_ndarray_co1sh3sc6or40x32y32_64x64.npz'\n",
    "                     ,encoding='bytes', allow_pickle=True)\n",
    "\n",
    "print('Keys in the dataset:', dataset_zip.keys())\n",
    "imgs = dataset_zip['imgs']\n",
    "latents_values = dataset_zip['latents_values']\n",
    "latents_classes = dataset_zip['latents_classes']\n",
    "metadata = dataset_zip['metadata'][()]\n",
    "\n",
    "\n",
    "print('Metadata: \\n', metadata)"
   ]
  },
  {
   "cell_type": "code",
   "execution_count": 3,
   "metadata": {},
   "outputs": [],
   "source": [
    "# Define number of values per latents and functions to convert to indices\n",
    "latents_sizes = metadata[b'latents_sizes']"
   ]
  },
  {
   "cell_type": "code",
   "execution_count": 4,
   "metadata": {},
   "outputs": [],
   "source": [
    "latents_bases = np.concatenate((latents_sizes[::-1].cumprod()[::-1][1:],\n",
    "                                np.array([1,])))"
   ]
  },
  {
   "cell_type": "code",
   "execution_count": 5,
   "metadata": {},
   "outputs": [],
   "source": [
    "def latent_to_index(latents):    \n",
    "    return np.dot(latents, latents_bases).astype(int)\n",
    "\n",
    "def sample_latent(size=1):\n",
    "    \"\"\"Sample the latent space.\n",
    "    \n",
    "    Parameters:\n",
    "    -----------------------------------------\n",
    "    size(integer): Number of samples.\n",
    "    \n",
    "    \"\"\"\n",
    "    \n",
    "    samples = np.zeros((size, latents_sizes.size))\n",
    "    \n",
    "    for lat_i, lat_size in enumerate(latents_sizes):\n",
    "        samples[:, lat_i] = np.random.randint(lat_size, size=size)\n",
    "\n",
    "    return samples"
   ]
  },
  {
   "cell_type": "code",
   "execution_count": 6,
   "metadata": {},
   "outputs": [],
   "source": [
    "# Sample latents randomly\n",
    "n_samples_train = 30000\n",
    "latents_sampled_train = sample_latent(size=n_samples_train)\n",
    "\n",
    "# Select images\n",
    "indices_sampled_train = latent_to_index(latents_sampled_train)\n",
    "imgs_sampled = imgs[indices_sampled_train]\n",
    "\n",
    "x_train = imgs[indices_sampled_train]\n",
    "x_train = x_train.reshape((n_samples_train,x_train.shape[1]*x_train.shape[2])).T"
   ]
  },
  {
   "cell_type": "code",
   "execution_count": 7,
   "metadata": {},
   "outputs": [],
   "source": [
    "# Sample latents randomly \n",
    "n_samples_test = 5000\n",
    "latents_sampled = sample_latent(size=n_samples_test)\n",
    "\n",
    "# Select images\n",
    "indices_sampled = latent_to_index(latents_sampled)\n",
    "imgs_sampled = imgs[indices_sampled]\n",
    "\n",
    "x_test = imgs[indices_sampled]\n",
    "x_test = x_test.reshape((n_samples_test,x_test.shape[1]*x_test.shape[2])).T"
   ]
  },
  {
   "cell_type": "code",
   "execution_count": 8,
   "metadata": {},
   "outputs": [
    {
     "name": "stdout",
     "output_type": "stream",
     "text": [
      "Analysing the shapes:\n",
      " X train shape: (4096, 30000) \n",
      " X test shape: (4096, 5000)\n"
     ]
    }
   ],
   "source": [
    "print('Analysing the shapes:\\n'+ \n",
    "      f' X train shape: {x_train.shape} \\n X test shape: {x_test.shape}')"
   ]
  },
  {
   "cell_type": "markdown",
   "metadata": {},
   "source": [
    "## Building the Beta-VAE"
   ]
  },
  {
   "cell_type": "markdown",
   "metadata": {},
   "source": [
    "### Using RBM Initialization"
   ]
  },
  {
   "cell_type": "code",
   "execution_count": 9,
   "metadata": {},
   "outputs": [],
   "source": [
    "# run params\n",
    "SECTION = 'bvae_RBM'\n",
    "RUN_ID = '0001'\n",
    "DATA_NAME = 'DSPRITES'\n",
    "RUN_FOLDER = f'run/{SECTION}/'\n",
    "RUN_FOLDER += '_'.join([RUN_ID, DATA_NAME])\n",
    "\n",
    "if not os.path.exists(RUN_FOLDER):\n",
    "    os.makedirs(RUN_FOLDER)\n",
    "    os.mkdir(os.path.join(RUN_FOLDER, 'viz'))\n",
    "    os.mkdir(os.path.join(RUN_FOLDER, 'images'))\n",
    "    os.mkdir(os.path.join(RUN_FOLDER, 'weights'))"
   ]
  },
  {
   "cell_type": "code",
   "execution_count": 10,
   "metadata": {},
   "outputs": [],
   "source": [
    "%load_ext autoreload\n",
    "%autoreload 2"
   ]
  },
  {
   "cell_type": "code",
   "execution_count": null,
   "metadata": {},
   "outputs": [
    {
     "name": "stdout",
     "output_type": "stream",
     "text": [
      "Pretraining \n",
      "\n",
      "Training RBM layer 1\n"
     ]
    },
    {
     "name": "stderr",
     "output_type": "stream",
     "text": [
      "\r",
      "  0%|          | 0/300 [00:00<?, ?it/s]"
     ]
    },
    {
     "name": "stdout",
     "output_type": "stream",
     "text": [
      "Epoch 1\n"
     ]
    }
   ],
   "source": [
    "from keras.models import Model\n",
    "from Models.VAE import VariationalAutoencoder\n",
    "\n",
    "#Parameters\n",
    "layers = [x_train.shape[0], 1000, 512, 256, 2]\n",
    "#layers = [x_train.shape[0], 2]\n",
    "epochs_pretraining = 1\n",
    "\n",
    "#Defining the Beta-VAE\n",
    "bvae = VariationalAutoencoder(layer_dims = layers)\n",
    "bvae.pretrain(x_train,epochs = epochs_pretraining, num_samples = 1000)\n",
    "\n",
    "bvae.unroll()"
   ]
  },
  {
   "cell_type": "code",
   "execution_count": 12,
   "metadata": {},
   "outputs": [
    {
     "name": "stdout",
     "output_type": "stream",
     "text": [
      "__________________________________________________________________________________________________\n",
      "Layer (type)                    Output Shape         Param #     Connected to                     \n",
      "==================================================================================================\n",
      "encoder_input (InputLayer)      (None, 4096)         0                                            \n",
      "__________________________________________________________________________________________________\n",
      "encoder_dense_0 (Dense)         (None, 2)            8194        encoder_input[0][0]              \n",
      "__________________________________________________________________________________________________\n",
      "mu (Dense)                      (None, 2)            6           encoder_dense_0[0][0]            \n",
      "__________________________________________________________________________________________________\n",
      "log_var (Dense)                 (None, 2)            6           encoder_dense_0[0][0]            \n",
      "__________________________________________________________________________________________________\n",
      "encoder_output (Lambda)         (None, 2)            0           mu[0][0]                         \n",
      "                                                                 log_var[0][0]                    \n",
      "__________________________________________________________________________________________________\n",
      "model_3 (Model)                 (None, 4096)         12294       encoder_output[0][0]             \n",
      "==================================================================================================\n",
      "Total params: 20,500\n",
      "Trainable params: 20,500\n",
      "Non-trainable params: 0\n",
      "__________________________________________________________________________________________________\n"
     ]
    }
   ],
   "source": [
    "bvae.model.summary()"
   ]
  },
  {
   "cell_type": "code",
   "execution_count": 13,
   "metadata": {},
   "outputs": [
    {
     "name": "stderr",
     "output_type": "stream",
     "text": [
      "W0309 17:26:19.288913 139713512376128 deprecation_wrapper.py:119] From /home/nahum/anaconda3/envs/generative/lib/python3.6/site-packages/keras/optimizers.py:790: The name tf.train.Optimizer is deprecated. Please use tf.compat.v1.train.Optimizer instead.\n",
      "\n"
     ]
    }
   ],
   "source": [
    "#Compile Parameters (These parameters depend on a fine tuning) \n",
    "LEARNING_RATE = 0.0005\n",
    "R_LOSS_FACTOR = 5000\n",
    "BETA = 10\n",
    "bvae.compile(LEARNING_RATE, R_LOSS_FACTOR, BETA)"
   ]
  },
  {
   "cell_type": "code",
   "execution_count": 14,
   "metadata": {},
   "outputs": [],
   "source": [
    "# Training Parameters\n",
    "\n",
    "BATCH_SIZE = 126\n",
    "\n",
    "EPOCHS = 10\n",
    "\n",
    "PRINT_EVERY_N_BATCHES = 100\n",
    "\n",
    "INITIAL_EPOCH = 0"
   ]
  },
  {
   "cell_type": "code",
   "execution_count": 15,
   "metadata": {},
   "outputs": [
    {
     "name": "stdout",
     "output_type": "stream",
     "text": [
      "Epoch 1/10\n",
      "30000/30000 [==============================] - 4s 125us/step - loss: 52645389.0706 - vae_r_loss: 990.0229 - vae_kl_loss: 5264439.9814\n",
      "Epoch 2/10\n",
      "30000/30000 [==============================] - 2s 82us/step - loss: 4709559.0189 - vae_r_loss: 830.9098 - vae_kl_loss: 470872.7994\n",
      "Epoch 3/10\n",
      "30000/30000 [==============================] - 2s 82us/step - loss: 2202584.1607 - vae_r_loss: 737.1458 - vae_kl_loss: 220184.6998\n",
      "Epoch 4/10\n",
      "30000/30000 [==============================] - 2s 83us/step - loss: 1324179.1510 - vae_r_loss: 657.5461 - vae_kl_loss: 132352.1607\n",
      "Epoch 5/10\n",
      "30000/30000 [==============================] - 2s 82us/step - loss: 894660.0789 - vae_r_loss: 589.0898 - vae_kl_loss: 89407.0996\n",
      "Epoch 6/10\n",
      "30000/30000 [==============================] - 2s 83us/step - loss: 647143.7310 - vae_r_loss: 531.5848 - vae_kl_loss: 64661.2157\n",
      "Epoch 7/10\n",
      "30000/30000 [==============================] - 3s 86us/step - loss: 490981.3957 - vae_r_loss: 481.9812 - vae_kl_loss: 49049.9399\n",
      "Epoch 8/10\n",
      "30000/30000 [==============================] - 2s 83us/step - loss: 384385.7533 - vae_r_loss: 438.1886 - vae_kl_loss: 38394.7570\n",
      "Epoch 9/10\n",
      "30000/30000 [==============================] - 2s 82us/step - loss: 308147.5366 - vae_r_loss: 399.5002 - vae_kl_loss: 30774.8040\n",
      "Epoch 10/10\n",
      "30000/30000 [==============================] - 2s 82us/step - loss: 251420.6636 - vae_r_loss: 366.3366 - vae_kl_loss: 25105.4324\n"
     ]
    }
   ],
   "source": [
    "bvae.train(     \n",
    "    x_train.T\n",
    "    , batch_size = BATCH_SIZE\n",
    "    , epochs = EPOCHS\n",
    "    , run_folder = RUN_FOLDER\n",
    "    , print_every_n_batches = PRINT_EVERY_N_BATCHES\n",
    "    , initial_epoch = INITIAL_EPOCH\n",
    "          )"
   ]
  },
  {
   "cell_type": "markdown",
   "metadata": {},
   "source": [
    "## Analysis"
   ]
  },
  {
   "cell_type": "markdown",
   "metadata": {},
   "source": [
    "### Reconstruction"
   ]
  },
  {
   "cell_type": "code",
   "execution_count": 19,
   "metadata": {},
   "outputs": [
    {
     "data": {
      "image/png": "[encoded data removed]",
      "text/plain": [
       "<Figure size 576x864 with 20 Axes>"
      ]
     },
     "metadata": {
      "needs_background": "light"
     },
     "output_type": "display_data"
    }
   ],
   "source": [
    "n_to_show = 5\n",
    "example_idx = np.random.choice(range(len(x_test)), n_to_show)\n",
    "example_images = x_test.T[example_idx]\n",
    "\n",
    "z_points = bvae.encoder.predict(example_images)\n",
    "\n",
    "reconst_images = bvae.decoder.predict(z_points)\n",
    "\n",
    "plt.figure(figsize=(8, 12))\n",
    "for i in range(n_to_show):\n",
    "\n",
    "    plt.subplot(5, 2, 2*i + 1)\n",
    "    plt.imshow(example_images[i].reshape(64, 64), vmin=0, vmax=1, cmap=\"gray\")\n",
    "    plt.title(\"Test input\")\n",
    "    plt.colorbar()\n",
    "    plt.subplot(5, 2, 2*i + 2)\n",
    "    plt.imshow(reconst_images[i].reshape(64, 64), vmin=0, vmax=1, cmap=\"gray\")\n",
    "    plt.title(\"Reconstruction\")\n",
    "    plt.colorbar()\n",
    "    \n",
    "plt.tight_layout()"
   ]
  },
  {
   "cell_type": "markdown",
   "metadata": {},
   "source": [
    "### Traversals\n",
    "\n",
    "We choose a random point on the latent space that corresponds to an image."
   ]
  },
  {
   "cell_type": "code",
   "execution_count": null,
   "metadata": {},
   "outputs": [],
   "source": [
    "n_to_show = 1\n",
    "\n",
    "example_idx = np.random.choice(range(len(x_test)), n_to_show)\n",
    "\n",
    "example_images = x_test[example_idx]\n",
    "\n",
    "z_points = bvae.encoder.predict(example_images)\n",
    "\n",
    "reconst_images = bvae.decoder.predict(z_points)"
   ]
  },
  {
   "cell_type": "code",
   "execution_count": null,
   "metadata": {},
   "outputs": [],
   "source": [
    "def traverse(pos,traverse_value,latent_vector):\n",
    "    \"\"\"Make the traverse on pos at the latent\n",
    "    vector\n",
    "    \n",
    "    Parameters\n",
    "    ------------------------------------------\n",
    "    pos(int): Position at the latent vector that \n",
    "              you want to traverse.\n",
    "    latent_vector(list): Latent vector.\n",
    "    \n",
    "    \"\"\"\n",
    "    latent_vector[0][pos] = traverse_value\n",
    "    \n",
    "    return latent_vector      "
   ]
  },
  {
   "cell_type": "code",
   "execution_count": null,
   "metadata": {},
   "outputs": [],
   "source": [
    "from copy import copy\n",
    "\n",
    "#number of imgs\n",
    "n_traverse = 10\n",
    "\n",
    "#minimum value of traversal\n",
    "min_t = -3\n",
    "\n",
    "#maximum value of traversal\n",
    "max_t = 3\n",
    "\n",
    "plt.imshow(reconst_images[0,:,:,0], cmap='gray')\n",
    "plt.title(\"Original \\n Latent Vector: {}\".format(z_points[0]))\n",
    "\n",
    "for j in range(ZDIM):\n",
    "    \n",
    "    fig = plt.figure(figsize=(18,5))\n",
    "    fig.subplots_adjust(hspace=0.4,wspace=0.1)    \n",
    "    \n",
    "    for i,val in enumerate(np.linspace(min_t,max_t,n_traverse)):\n",
    "        #Use copy in order to not overwrite z_points\n",
    "        Latent_T = traverse(j,val,copy(z_points)) \n",
    "        reconst_image = bvae.decoder.predict(Latent_T)\n",
    "        ax = fig.add_subplot(1, n_traverse, i+1)\n",
    "        ax.imshow(reconst_image.reshape(64, 64), cmap='gray')\n",
    "        ax.axis('off')\n",
    "        ax.set_title(\"{:.3f}\".format(val))\n",
    "    fig.suptitle('Changing Latent Position {}'.format(j),x=0.5,y=0.75, fontsize=16)\n",
    "    \n",
    "    plt.show()"
   ]
  }
 ],
 "metadata": {
  "file_extension": ".py",
  "kernelspec": {
   "display_name": "generative",
   "language": "python",
   "name": "generative"
  },
  "language_info": {
   "codemirror_mode": {
    "name": "ipython",
    "version": 3
   },
   "file_extension": ".py",
   "mimetype": "text/x-python",
   "name": "python",
   "nbconvert_exporter": "python",
   "pygments_lexer": "ipython3",
   "version": "3.6.7"
  },
  "mimetype": "text/x-python",
  "name": "python",
  "npconvert_exporter": "python",
  "pygments_lexer": "ipython3",
  "toc": {
   "base_numbering": 1,
   "nav_menu": {},
   "number_sections": true,
   "sideBar": true,
   "skip_h1_title": false,
   "title_cell": "Table of Contents",
   "title_sidebar": "Contents",
   "toc_cell": true,
   "toc_position": {},
   "toc_section_display": true,
   "toc_window_display": false
  },
  "version": 3
 },
 "nbformat": 4,
 "nbformat_minor": 2
}
